{
 "cells": [
  {
   "cell_type": "code",
   "execution_count": 113,
   "metadata": {},
   "outputs": [],
   "source": [
    "import numpy as np\n",
    "from statistics import mean\n",
    "import matplotlib.pyplot as plt\n",
    "from matplotlib import style\n",
    "style.use(\"fivethirtyeight\")"
   ]
  },
  {
   "cell_type": "code",
   "execution_count": 114,
   "metadata": {},
   "outputs": [],
   "source": [
    "#x=np.array([1,2,3,4,5,6],dtype=np.float64)\n",
    "#y=np.array([5,4,6,5,6,7],dtype=np.float64)\n",
    "# Formula for slope of line \"m\"=[mean(x)*mean(y)]-mean(x*y)/mean(x)^2 - mean(x^2)"
   ]
  },
  {
   "cell_type": "code",
   "execution_count": 115,
   "metadata": {},
   "outputs": [],
   "source": [
    "import random"
   ]
  },
  {
   "cell_type": "code",
   "execution_count": 116,
   "metadata": {},
   "outputs": [],
   "source": [
    "def create_dataset(hm,variance,step=2,correlation=False):\n",
    "    val=1\n",
    "    y=[]\n",
    "    for i in range(hm):\n",
    "        Y=val+random.randrange(-variance,variance)\n",
    "        y.append(Y)\n",
    "        if correlation==\"pos\":\n",
    "            val+=step\n",
    "        elif correlation==\"neg\":\n",
    "            val-=step\n",
    "    x= [j for j in range(len(y))]\n",
    "    \n",
    "    return np.array(x,dtype=np.float64),np.array(y,dtype=np.float64)"
   ]
  },
  {
   "cell_type": "code",
   "execution_count": 138,
   "metadata": {},
   "outputs": [
    {
     "name": "stdout",
     "output_type": "stream",
     "text": [
      "[ 0.  1.  2.  3.  4.  5.  6.  7.  8.  9. 10. 11. 12. 13. 14. 15. 16. 17.\n",
      " 18. 19. 20. 21. 22. 23. 24. 25. 26. 27. 28. 29. 30. 31. 32. 33. 34. 35.\n",
      " 36. 37. 38. 39.] [ 1. 12. -4. 13.  2. 16.  3. 17. 25. 15. 14. 32. 18. 36. 19. 39. 25. 31.\n",
      " 29. 29. 37. 43. 53. 37. 40. 58. 58. 56. 48. 54. 53. 63. 58. 70. 73. 73.\n",
      " 72. 74. 81. 79.]\n"
     ]
    },
    {
     "data": {
      "text/plain": [
       "(40,)"
      ]
     },
     "execution_count": 138,
     "metadata": {},
     "output_type": "execute_result"
    }
   ],
   "source": [
    "x,y=create_dataset(40,10,2,correlation=\"pos\")\n",
    "print(x,y)\n",
    "np.shape(y)"
   ]
  },
  {
   "cell_type": "code",
   "execution_count": 139,
   "metadata": {},
   "outputs": [
    {
     "name": "stdout",
     "output_type": "stream",
     "text": [
      "1.9889305816135092\n"
     ]
    }
   ],
   "source": [
    "def best_fit(x,y):\n",
    "    m=(((mean(x)*mean(y))-mean(x*y))/\n",
    "        ((mean(x)*mean(x)) - mean(x*x)))\n",
    "    return m\n",
    "       \n",
    "    \n",
    "    \n",
    "    \n",
    "       \n",
    "m=best_fit(x,y)\n",
    "print(m)"
   ]
  },
  {
   "cell_type": "code",
   "execution_count": 140,
   "metadata": {},
   "outputs": [],
   "source": [
    "# now we will find \"b\", that is the y intercept,,,,,b=mean(y)-m*mean(x)\n",
    "def intercept(m,x):\n",
    "    b=(mean(y)-m*mean(x))\n",
    "    return b\n",
    "\n",
    "b=intercept(m,x)\n",
    "\n",
    "def sq_error(y_org,y_line):\n",
    "    return sum((y_line-y_org)**2)\n",
    "def coeff_of_det(y_org,y_line):\n",
    "    \n",
    "    y_mean_line=[mean(y_org) for y in y_org]\n",
    "    sq_error_reg=sq_error(y_org,y_line)\n",
    "    y_mean_sq_error=sq_error(y_org,y_mean_line)\n",
    "    \n",
    "    return 1-(sq_error_reg/y_mean_sq_error)\n",
    "\n"
   ]
  },
  {
   "cell_type": "code",
   "execution_count": 144,
   "metadata": {},
   "outputs": [
    {
     "name": "stdout",
     "output_type": "stream",
     "text": [
      "0.9267001764949985\n"
     ]
    },
    {
     "data": {
      "image/png": "[encoded data removed]",
      "text/plain": [
       "<Figure size 432x288 with 1 Axes>"
      ]
     },
     "metadata": {},
     "output_type": "display_data"
    }
   ],
   "source": [
    "regression_line=[(m*X)+b for X in x]\n",
    "predict_x=10\n",
    "predict_y=(m*predict_x)+b\n",
    "r_sq=coeff_of_det(y,regression_line)\n",
    "print(r_sq)\n",
    "\n",
    "plt.scatter(x,y)\n",
    "plt.plot(x,regression_line)\n",
    "plt.scatter(predict_x,predict_y,s=100)\n",
    "plt.show()\n"
   ]
  },
  {
   "cell_type": "code",
   "execution_count": null,
   "metadata": {},
   "outputs": [],
   "source": []
  }
 ],
 "metadata": {
  "kernelspec": {
   "display_name": "Python 3",
   "language": "python",
   "name": "python3"
  },
  "language_info": {
   "codemirror_mode": {
    "name": "ipython",
    "version": 3
   },
   "file_extension": ".py",
   "mimetype": "text/x-python",
   "name": "python",
   "nbconvert_exporter": "python",
   "pygments_lexer": "ipython3",
   "version": "3.7.6"
  }
 },
 "nbformat": 4,
 "nbformat_minor": 4
}
